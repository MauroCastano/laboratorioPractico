{
 "cells": [
  {
   "cell_type": "markdown",
   "metadata": {},
   "source": [
    "<center>\n",
    "    <img src=\"https://cf-courses-data.s3.us.cloud-object-storage.appdomain.cloud/IBMDeveloperSkillsNetwork-DS0105EN-SkillsNetwork/labs/Module2/images/SN_web_lightmode.png\" width=\"300\" alt=\"cognitiveclass.ai logo\">\n",
    "</center>\n"
   ]
  },
  {
   "cell_type": "markdown",
   "metadata": {
    "jp-MarkdownHeadingCollapsed": true,
    "tags": []
   },
   "source": [
    "Exercise 2: Create markdown cell with title of the notebook"
   ]
  },
  {
   "cell_type": "markdown",
   "metadata": {
    "tags": []
   },
   "source": [
    "# Data Science Tools and Ecosystem"
   ]
  },
  {
   "cell_type": "markdown",
   "metadata": {},
   "source": [
    "Exercise 3 - Create a markdown cell for an introduction"
   ]
  },
  {
   "cell_type": "markdown",
   "metadata": {},
   "source": [
    "This Data Science laboratory notebook explains which popular tools and programming languages are used, as well as the different open-source libraries available for performing various data science tasks.\n"
   ]
  },
  {
   "cell_type": "markdown",
   "metadata": {},
   "source": [
    "Exercise 10 - Insert a markdown cell to list Objectives"
   ]
  },
  {
   "cell_type": "markdown",
   "metadata": {},
   "source": [
    "Objetives:\n",
    "\n",
    "- List popular languages for Data Science\n",
    "- Popular Data Science Libraries\n",
    "- Create cell introducing arithmetic expression "
   ]
  },
  {
   "cell_type": "markdown",
   "metadata": {},
   "source": [
    "Exercise 4 - Create a markdown cell to list data science languages"
   ]
  },
  {
   "cell_type": "markdown",
   "metadata": {},
   "source": [
    "Some of the popular languages that Data Scientists use are:"
   ]
  },
  {
   "cell_type": "markdown",
   "metadata": {},
   "source": [
    "# Popular Data Science Languages\n",
    "\n",
    "1. **Python**: Widely used for its simplicity and extensive libraries-\n",
    "2. **R**: Known for its statistical analysis capabilities and rich ecosystem of packages for data analysis.\n",
    "3. **Scala**: Often used with Apache Spark for big data processing and analytics.\n",
    "4. **Julia**: Gaining popularity for its high performance in numerical and scientific computing.\n",
    "5. **SQL**: Essential for database querying and management.\n",
    "6. **MATLAB**: Known for numerical computing and algorithm development.\n",
    "7. **Java**: Sometimes used in data science, especially for big data frameworks like Hadoop.\n"
   ]
  },
  {
   "cell_type": "markdown",
   "metadata": {
    "tags": []
   },
   "source": [
    "Exercise 5 - Create a markdown cell to list data science libraries"
   ]
  },
  {
   "cell_type": "markdown",
   "metadata": {},
   "source": [
    "Some of the commonly used libraries used by Data Scientists include:"
   ]
  },
  {
   "cell_type": "markdown",
   "metadata": {},
   "source": [
    "# Popular Data Science Languages and Libraries\n",
    "\n",
    "## 1.Python\n",
    "- **NumPy**: Fundamental package for numerical computations.\n",
    "- **pandas**: Data manipulation and analysis library.\n",
    "- **scikit-learn**: Tools for machine learning and statistical modeling.\n",
    "- **Matplotlib**: Plotting and visualization library.\n",
    "- **Seaborn**: Statistical data visualization.\n",
    "- **TensorFlow**: Open-source framework for machine learning.\n",
    "- **PyTorch**: Deep learning library for flexible and dynamic neural networks.\n",
    "\n",
    "## 2.R\n",
    "- **ggplot2**: Data visualization based on the Grammar of Graphics.\n",
    "- **dplyr**: Data manipulation and transformation.\n",
    "- **tidyr**: Tools for tidying data.\n",
    "- **caret**: Tools for training and evaluating machine learning models.\n",
    "- **shiny**: Web application framework for R.\n",
    "- **data.table**: High-performance data manipulation.\n",
    "\n",
    "## 3.Scala\n",
    "- **Apache Spark**: Unified analytics engine for big data processing.\n",
    "- **Breeze**: Numerical processing library.\n",
    "- **Algebird**: Abstract algebra library for data analysis.\n",
    "- **Spark MLlib**: Machine learning library within Spark.\n",
    "\n",
    "## 4.Julia\n",
    "- **DataFrames.jl**: Data manipulation and analysis.\n",
    "- **Plots.jl**: Plotting library with various backends.\n",
    "- **StatsBase.jl**: Basic statistical functions.\n",
    "- **MLJ.jl**: Machine learning framework.\n",
    "- **DifferentialEquations.jl**: Solvers for differential equations.\n",
    "\n",
    "## 5.SQL\n",
    "- **SQLite**: Lightweight database engine.\n",
    "- **PostgreSQL**: Advanced open-source relational database.\n",
    "- **MySQL**: Popular open-source relational database.\n",
    "- **Microsoft SQL Server**: Enterprise-level relational database.\n",
    "\n",
    "## 6.MATLAB\n",
    "- **Statistics and Machine Learning Toolbox**: Tools for statistical analysis and machine learning.\n",
    "- **Deep Learning Toolbox**: Functions for designing and implementing neural networks.\n",
    "- **Optimization Toolbox**: Tools for solving optimization problems.\n",
    "- **Data Acquisition Toolbox**: Tools for acquiring and analyzing data from sensors.\n",
    "\n",
    "## 7.Java\n",
    "- **Apache Hadoop**: Framework for distributed storage and processing of big data.\n",
    "- **Apache Mahout**: Scalable machine learning algorithms.\n",
    "- **Weka**: Collection of machine learning algorithms for data mining.\n"
   ]
  },
  {
   "cell_type": "markdown",
   "metadata": {},
   "source": [
    "Exercise 6 - Create a markdown cell with a table of Data Science tools"
   ]
  },
  {
   "cell_type": "markdown",
   "metadata": {},
   "source": [
    "| **Data Scince Tools** |\n",
    "|----|\n",
    "| Python |\n",
    "| R |\n",
    "| Scala |"
   ]
  },
  {
   "cell_type": "markdown",
   "metadata": {},
   "source": [
    "Exercise 7 - Create a markdown cell introducing arithmetic expression examples\n",
    "### Below are a few examples of evaluating arithmetic expressions in Python. ###"
   ]
  },
  {
   "cell_type": "markdown",
   "metadata": {},
   "source": [
    "Exercise 8 - Create a code cell to multiply and add numbers"
   ]
  },
  {
   "cell_type": "code",
   "execution_count": 3,
   "metadata": {
    "tags": []
   },
   "outputs": [
    {
     "data": {
      "text/plain": [
       "17"
      ]
     },
     "execution_count": 3,
     "metadata": {},
     "output_type": "execute_result"
    }
   ],
   "source": [
    "# Exercise 8 - Create a code cell to multiply and add numbers\n",
    "(3*4)+5"
   ]
  },
  {
   "cell_type": "markdown",
   "metadata": {},
   "source": [
    "Exercise 9 - Create a code cell to convert minutes to hours"
   ]
  },
  {
   "cell_type": "code",
   "execution_count": 4,
   "metadata": {
    "tags": []
   },
   "outputs": [
    {
     "name": "stdout",
     "output_type": "stream",
     "text": [
      "200 minutes is equal to 3.3333333333333335 hours.\n"
     ]
    }
   ],
   "source": [
    "# This will convert 200 minutes to hours by diving by 60\n",
    "# Define the number of minutes\n",
    "minutes = 200\n",
    "\n",
    "# Convert minutes to hours\n",
    "hours = minutes / 60\n",
    "\n",
    "# Print the result\n",
    "print(f\"{minutes} minutes is equal to {hours} hours.\")\n"
   ]
  },
  {
   "cell_type": "markdown",
   "metadata": {},
   "source": [
    "Exercise 10 - Insert a markdown cell to list Objectives"
   ]
  },
  {
   "cell_type": "markdown",
   "metadata": {},
   "source": [
    "Exercise 11 - Create a markdown cell to indicate the Author's name"
   ]
  },
  {
   "cell_type": "markdown",
   "metadata": {},
   "source": [
    "## Author ##\n",
    "\n",
    "Mauricio Castaño Valencia"
   ]
  },
  {
   "cell_type": "code",
   "execution_count": null,
   "metadata": {},
   "outputs": [],
   "source": []
  }
 ],
 "metadata": {
  "kernelspec": {
   "display_name": "Python",
   "language": "python",
   "name": "conda-env-python-py"
  },
  "language_info": {
   "codemirror_mode": {
    "name": "ipython",
    "version": 3
   },
   "file_extension": ".py",
   "mimetype": "text/x-python",
   "name": "python",
   "nbconvert_exporter": "python",
   "pygments_lexer": "ipython3",
   "version": "3.7.12"
  }
 },
 "nbformat": 4,
 "nbformat_minor": 4
}
